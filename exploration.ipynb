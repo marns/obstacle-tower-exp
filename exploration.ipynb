{
 "cells": [
  {
   "cell_type": "markdown",
   "metadata": {},
   "source": [
    "# Interactive Widgets for Obstacle Tower Gym Interface"
   ]
  },
  {
   "cell_type": "markdown",
   "metadata": {},
   "source": [
    "Extends https://github.com/Unity-Technologies/obstacle-tower-env/blob/master/examples/basic_usage.ipynb with simple widgets for interactive data exploration in a Jupyter Notebook"
   ]
  },
  {
   "cell_type": "code",
   "execution_count": 1,
   "metadata": {},
   "outputs": [],
   "source": [
    "from obstacle_tower_env import ObstacleTowerEnv\n",
    "\n",
    "%matplotlib inline\n",
    "from matplotlib import pyplot as plt\n",
    "\n",
    "from ipywidgets import Button, GridBox, Layout, ButtonStyle\n",
    "import ipywidgets as widgets\n",
    "\n",
    "from IPython.display import display, clear_output"
   ]
  },
  {
   "cell_type": "markdown",
   "metadata": {},
   "source": [
    "## Launching the environment\n",
    "Ensure that the Obstacle Tower binary has been downloaded (https://github.com/Unity-Technologies/obstacle-tower-env#download-the-environment), and placed in the correct sub-folder. Here we use the `examples/ObstacleTower` sub-folder."
   ]
  },
  {
   "cell_type": "code",
   "execution_count": 2,
   "metadata": {
    "scrolled": true
   },
   "outputs": [
    {
     "name": "stderr",
     "output_type": "stream",
     "text": [
      "INFO:mlagents_envs:\n",
      "'ObstacleTower-v1.2' started successfully!\n",
      "Unity Academy name: ObstacleTower-v1.2\n",
      "        Number of Brains: 1\n",
      "        Number of Training Brains : 1\n",
      "        Reset Parameters :\n",
      "\t\tfloor-number -> 0.0\n",
      "\t\tdense-reward -> 1.0\n",
      "\t\ttower-seed -> -1.0\n",
      "Unity brain name: LearningBrain\n",
      "        Number of Visual Observations (per agent): 1\n",
      "        Vector Observation space size (per agent): 7\n",
      "        Number of stacked Vector Observation: 1\n",
      "        Vector Action space type: discrete\n",
      "        Vector Action space size (per agent): [3, 3, 2, 3]\n",
      "        Vector Action descriptions: Movement Forward/Back, Camera, Jump, Movement Left/Right\n",
      "INFO:gym_unity:1 agents within environment.\n"
     ]
    }
   ],
   "source": [
    "# Realtime mode determines whether the environment window will render the scene,\n",
    "# as well as whether the environment will run at realtime speed. Set this to `True`\n",
    "# to visual the agent behavior as you would in player mode.\n",
    "\n",
    "env = ObstacleTowerEnv('./ObstacleTower/obstacletower', retro=False, realtime_mode=False)"
   ]
  },
  {
   "cell_type": "code",
   "execution_count": 3,
   "metadata": {},
   "outputs": [
    {
     "data": {
      "text/plain": [
       "MultiDiscrete([3 3 2 3])"
      ]
     },
     "execution_count": 3,
     "metadata": {},
     "output_type": "execute_result"
    }
   ],
   "source": [
    "# The environment provided has a MultiDiscrete action space, where the 4 dimensions are:\n",
    "\n",
    "# 0. Movement (No-Op/Forward/Back)\n",
    "# 1. Camera Rotation (No-Op/Counter-Clockwise/Clockwise)\n",
    "# 2. Jump (No-Op/Jump)\n",
    "# 3. Movement (No-Op/Right/Left)\n",
    "\n",
    "env.action_space"
   ]
  },
  {
   "cell_type": "code",
   "execution_count": 4,
   "metadata": {},
   "outputs": [
    {
     "data": {
      "text/plain": [
       "Tuple(Box(168, 168, 3), Discrete(5), Box(1,))"
      ]
     },
     "execution_count": 4,
     "metadata": {},
     "output_type": "execute_result"
    }
   ],
   "source": [
    "# The observation space provided includes a 168x168 image (the camera from the simulation)\n",
    "# as well as the number of keys held by the agent (0-5) and the amount of time remaining.\n",
    "\n",
    "env.observation_space"
   ]
  },
  {
   "cell_type": "code",
   "execution_count": 5,
   "metadata": {},
   "outputs": [],
   "source": [
    "# Setup plot globals\n",
    "plt.ioff()\n",
    "fig = plt.figure()\n",
    "\n",
    "# Get axes and hide markup\n",
    "ax = fig.gca()\n",
    "ax.grid(False)\n",
    "ax.set_xticks([])\n",
    "ax.set_yticks([])\n",
    "\n",
    "# Start environment and initialize image\n",
    "env.reset()\n",
    "im = ax.imshow(env.render())\n",
    "\n",
    "# Output widget\n",
    "out = widgets.Output(layout=Layout(height='300px', width = '300px'))\n",
    "\n",
    "# Draw image data to output widget\n",
    "def draw(img_data):\n",
    "    im.set_data(img_data)\n",
    "    with out:\n",
    "        clear_output(wait=True)\n",
    "        display(ax.figure)\n",
    "        \n",
    "draw(env.render())"
   ]
  },
  {
   "cell_type": "code",
   "execution_count": 6,
   "metadata": {},
   "outputs": [],
   "source": [
    "# Move function callbacks\n",
    "def move(action):\n",
    "    obs, reward, done, info = env.step(action)\n",
    "    im.set_data(obs[0])\n",
    "    with out:\n",
    "        clear_output(wait=True)\n",
    "        display(ax.figure)\n",
    "        \n",
    "def move_forward(b):\n",
    "    move([1, 0, 0, 0])\n",
    "\n",
    "def move_back(b):\n",
    "    move([2, 0, 0, 0])\n",
    "    \n",
    "def move_right(b):\n",
    "    move([0, 0, 0, 1])\n",
    "    \n",
    "def move_left(b):\n",
    "    move([0, 0, 0, 2])"
   ]
  },
  {
   "cell_type": "code",
   "execution_count": 7,
   "metadata": {},
   "outputs": [],
   "source": [
    "# Get movement buttons (auto-layout with callback)\n",
    "def get_button(description, on_click):\n",
    "    button = widgets.Button(description=description, layout=Layout(width='auto', grid_area=description))\n",
    "    button.on_click(on_click)\n",
    "    return button\n",
    "    \n",
    "but_forward = get_button(\"Forward\", move_forward)\n",
    "but_back = get_button(\"Back\", move_back)\n",
    "but_left = get_button(\"Left\", move_left)\n",
    "but_right = get_button(\"Right\", move_right)\n",
    "\n",
    "# Button layout\n",
    "buttonGrid = GridBox(children = [but_forward, but_left, but_right, but_back],\n",
    "        layout = Layout(width='200px', height='200px',\n",
    "        grid_template_rows='auto auto auto',\n",
    "        grid_template_columns='auto auto auto',\n",
    "        grid_template_areas='''\n",
    "            \". Forward .\"\n",
    "            \"Left . Right\"\n",
    "            \". Back .\"\n",
    "            ''')\n",
    "       )\n",
    "\n",
    "hbox = widgets.HBox(children=(out, buttonGrid))"
   ]
  },
  {
   "cell_type": "code",
   "execution_count": 8,
   "metadata": {
    "scrolled": true
   },
   "outputs": [
    {
     "data": {
      "application/vnd.jupyter.widget-view+json": {
       "model_id": "e33b13f98e254ab3921e741d1ff362cb",
       "version_major": 2,
       "version_minor": 0
      },
      "text/plain": [
       "HBox(children=(Output(layout=Layout(height='300px', width='300px')), GridBox(children=(Button(description='For…"
      ]
     },
     "metadata": {},
     "output_type": "display_data"
    }
   ],
   "source": [
    "display(hbox)"
   ]
  },
  {
   "cell_type": "code",
   "execution_count": 9,
   "metadata": {},
   "outputs": [],
   "source": [
    "# Uncomment and run to shut down environment\n",
    "#env.close()"
   ]
  }
 ],
 "metadata": {
  "kernelspec": {
   "display_name": "Python 3",
   "language": "python",
   "name": "python3"
  },
  "language_info": {
   "codemirror_mode": {
    "name": "ipython",
    "version": 3
   },
   "file_extension": ".py",
   "mimetype": "text/x-python",
   "name": "python",
   "nbconvert_exporter": "python",
   "pygments_lexer": "ipython3",
   "version": "3.6.8"
  }
 },
 "nbformat": 4,
 "nbformat_minor": 2
}
